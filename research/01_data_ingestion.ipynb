{
 "cells": [
  {
   "cell_type": "code",
   "execution_count": 53,
   "id": "cf044501",
   "metadata": {},
   "outputs": [],
   "source": [
    "import os"
   ]
  },
  {
   "cell_type": "code",
   "execution_count": 54,
   "id": "5f83fcb3",
   "metadata": {},
   "outputs": [
    {
     "name": "stdout",
     "output_type": "stream",
     "text": [
      "C:\\Users\\dmsum\\OneDrive\\Desktop\\End-to-End-Deep-Learning-Project-Chicken-Disease-Classification\n"
     ]
    }
   ],
   "source": [
    "%cd \"C:\\Users\\dmsum\\OneDrive\\Desktop\\End-to-End-Deep-Learning-Project-Chicken-Disease-Classification\""
   ]
  },
  {
   "cell_type": "code",
   "execution_count": 55,
   "id": "35aa343e",
   "metadata": {},
   "outputs": [
    {
     "data": {
      "text/plain": [
       "'C:\\\\Users\\\\dmsum\\\\OneDrive\\\\Desktop\\\\End-to-End-Deep-Learning-Project-Chicken-Disease-Classification'"
      ]
     },
     "execution_count": 55,
     "metadata": {},
     "output_type": "execute_result"
    }
   ],
   "source": [
    "%pwd"
   ]
  },
  {
   "cell_type": "code",
   "execution_count": 56,
   "id": "1b65a380",
   "metadata": {},
   "outputs": [],
   "source": [
    "# os.chdir(\"../\")"
   ]
  },
  {
   "cell_type": "code",
   "execution_count": 57,
   "id": "415c46ad",
   "metadata": {},
   "outputs": [],
   "source": [
    "# %pwd"
   ]
  },
  {
   "cell_type": "markdown",
   "id": "90a5c4e9",
   "metadata": {},
   "source": [
    "## Update the entity"
   ]
  },
  {
   "cell_type": "code",
   "execution_count": 58,
   "id": "8c1085e2",
   "metadata": {},
   "outputs": [],
   "source": [
    "from dataclasses import dataclass\n",
    "from pathlib import Path\n",
    "\n",
    "@dataclass(frozen=True)\n",
    "class DataIngestionConfig:\n",
    "    root_dir: Path\n",
    "    local_data_file: Path\n",
    "    unzip_dir: Path\n",
    "    service_account_file: str\n",
    "    root_folder_id: str\n",
    "    scopes: list\n",
    "    local_dir: str"
   ]
  },
  {
   "cell_type": "markdown",
   "id": "df5972df",
   "metadata": {},
   "source": [
    "## Update the configuration manager in src config"
   ]
  },
  {
   "cell_type": "code",
   "execution_count": 59,
   "id": "9e87b42c",
   "metadata": {},
   "outputs": [],
   "source": [
    "from cnnClassifier.constants import *\n",
    "from cnnClassifier.utils.common import read_yaml, create_directories"
   ]
  },
  {
   "cell_type": "code",
   "execution_count": 60,
   "id": "7d3a8976",
   "metadata": {},
   "outputs": [],
   "source": [
    "class ConfigurationManager:\n",
    "    def __init__(\n",
    "            self,\n",
    "            config_filepath = CONFIG_FILE_PATH,\n",
    "            params_filepath = PARAMS_FILE_PATH):\n",
    "\n",
    "            self.config = read_yaml(config_filepath)\n",
    "            self.params = read_yaml(params_filepath)\n",
    "\n",
    "            create_directories([self.config.artifacts_root])\n",
    "\n",
    "    def get_data_ingestion_config(self) -> DataIngestionConfig:\n",
    "        config = self.config.data_ingestion\n",
    "\n",
    "        create_directories([config.root_dir])\n",
    "\n",
    "        data_ingestion_config = DataIngestionConfig(\n",
    "            root_dir=config.root_dir,\n",
    "            local_data_file=config.local_data_file,\n",
    "            unzip_dir=config.unzip_dir,\n",
    "            service_account_file=config.service_account_file,\n",
    "            root_folder_id=config.root_folder_id,\n",
    "            scopes=config.scopes,\n",
    "            local_dir=config.local_dir\n",
    "        )\n",
    "\n",
    "        return data_ingestion_config\n"
   ]
  },
  {
   "cell_type": "markdown",
   "id": "a3c24e7e",
   "metadata": {},
   "source": [
    "## Update the components"
   ]
  },
  {
   "cell_type": "code",
   "execution_count": 61,
   "id": "ab374233",
   "metadata": {},
   "outputs": [],
   "source": [
    "import os\n",
    "import zipfile\n",
    "from pydrive2.auth import GoogleAuth\n",
    "from pydrive2.drive import GoogleDrive\n",
    "from oauth2client.service_account import ServiceAccountCredentials\n",
    "from cnnClassifier import logger\n",
    "from cnnClassifier.utils.common import get_size\n",
    "from dotenv import load_dotenv"
   ]
  },
  {
   "cell_type": "code",
   "execution_count": 68,
   "id": "9eaa189e",
   "metadata": {},
   "outputs": [],
   "source": [
    "class DataIngestion:\n",
    "    def __init__(self, config: DataIngestionConfig):\n",
    "        self.config = config\n",
    "        self.drive = self._authenticate()\n",
    "\n",
    "    def _authenticate(self):\n",
    "        \"\"\"Authenticate Google Drive using service account credentials.\"\"\"\n",
    "        credentials = ServiceAccountCredentials.from_json_keyfile_name(\n",
    "            self.config.service_account_file, scopes=self.config.scopes\n",
    "        )\n",
    "        gauth = GoogleAuth()\n",
    "        gauth.credentials = credentials\n",
    "        return GoogleDrive(gauth)\n",
    "\n",
    "    def download_folder(self, folder_id=None):\n",
    "        \"\"\"Download all files (recursively) from a Google Drive folder.\n",
    "        Zip file will be saved directly as local_data_file.\"\"\"\n",
    "        \n",
    "        if folder_id is None:\n",
    "            folder_id = self.config.root_folder_id\n",
    "\n",
    "        os.makedirs(self.config.root_dir, exist_ok=True)\n",
    "\n",
    "        file_list = self.drive.ListFile(\n",
    "            {'q': f\"'{folder_id}' in parents and trashed=false\"}\n",
    "        ).GetList()\n",
    "\n",
    "        for file in file_list:\n",
    "            file_title = file['title']\n",
    "            file_id = file['id']\n",
    "\n",
    "            if file['mimeType'] == 'application/vnd.google-apps.folder':\n",
    "                # ignore subfolders or handle recursively if needed\n",
    "                continue\n",
    "            else:\n",
    "                # Save zip directly to local_data_file\n",
    "                print(f\"Downloading {file_title}...\")\n",
    "                file.GetContentFile(self.config.local_data_file)  # overwrite path\n",
    "                print(f\"{file_title} downloaded at {self.config.local_data_file}!\")\n",
    "\n",
    "\n",
    "    def extract_zip_file(self):\n",
    "        \"\"\"\n",
    "        zip_file_path: str\n",
    "        Extracts the zip file into the data directory\n",
    "        Function return None\n",
    "        \"\"\"\n",
    "\n",
    "        unzip_path = self.config.unzip_dir\n",
    "        os.makedirs(unzip_path, exist_ok=True)\n",
    "        with zipfile.ZipFile(self.config.local_data_file, 'r') as zip_ref:\n",
    "            zip_ref.extractall(unzip_path)\n",
    "\n"
   ]
  },
  {
   "cell_type": "markdown",
   "id": "28b8a081",
   "metadata": {},
   "source": [
    "## Update the pipeline"
   ]
  },
  {
   "cell_type": "code",
   "execution_count": 69,
   "id": "4dde490a",
   "metadata": {},
   "outputs": [
    {
     "name": "stdout",
     "output_type": "stream",
     "text": [
      "[2025-10-04 19:26:42,803: INFO: common: yaml file: config\\config.yaml loaded successfully]\n",
      "[2025-10-04 19:26:42,807: INFO: common: yaml file: params.yaml loaded successfully]\n",
      "[2025-10-04 19:26:42,809: INFO: common: created directory at: artifacts]\n",
      "[2025-10-04 19:26:42,812: INFO: common: created directory at: artifacts/data_ingestion]\n",
      "[2025-10-04 19:26:42,843: INFO: transport: Attempting refresh to obtain initial access_token]\n",
      "[2025-10-04 19:26:42,847: INFO: client: Refreshing access_token]\n",
      "Downloading Chicken-fecal-images.zip...\n",
      "Chicken-fecal-images.zip downloaded at Downloaded_Folder/Chicken-fecal-images.zip!\n"
     ]
    }
   ],
   "source": [
    "try:\n",
    "    config = ConfigurationManager()\n",
    "    data_ingestion_config = config.get_data_ingestion_config()\n",
    "    data_ingestion = DataIngestion(config=data_ingestion_config)\n",
    "\n",
    "    data_ingestion.download_folder()\n",
    "\n",
    "    data_ingestion.extract_zip_file()\n",
    "\n",
    "except Exception as e:\n",
    "    raise e"
   ]
  }
 ],
 "metadata": {
  "kernelspec": {
   "display_name": "cnncd",
   "language": "python",
   "name": "python3"
  },
  "language_info": {
   "codemirror_mode": {
    "name": "ipython",
    "version": 3
   },
   "file_extension": ".py",
   "mimetype": "text/x-python",
   "name": "python",
   "nbconvert_exporter": "python",
   "pygments_lexer": "ipython3",
   "version": "3.8.20"
  }
 },
 "nbformat": 4,
 "nbformat_minor": 5
}
